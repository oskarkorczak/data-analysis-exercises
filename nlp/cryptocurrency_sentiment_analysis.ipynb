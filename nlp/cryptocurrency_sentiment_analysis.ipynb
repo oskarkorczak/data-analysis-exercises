{
  "nbformat": 4,
  "nbformat_minor": 0,
  "metadata": {
    "colab": {
      "name": "cryptocurrency-sentiment-analysis.ipynb",
      "provenance": [],
      "collapsed_sections": []
    },
    "kernelspec": {
      "display_name": "Python 3",
      "name": "python3"
    },
    "language_info": {
      "name": "python"
    }
  },
  "cells": [
    {
      "cell_type": "code",
      "metadata": {
        "id": "CB1j9h58_qSq"
      },
      "source": [
        "# Cryptocurrencies news headlines sentiment (polarity & subjectivity) analysis (positive, neutral, negative)"
      ],
      "execution_count": null,
      "outputs": []
    },
    {
      "cell_type": "code",
      "metadata": {
        "id": "1CIK2loMAo_w"
      },
      "source": [
        "# Install\n",
        "# !pip install textblob"
      ],
      "execution_count": null,
      "outputs": []
    },
    {
      "cell_type": "code",
      "metadata": {
        "id": "JnLFOXYW_--D"
      },
      "source": [
        "# Imports\n",
        "import pandas as pd\n",
        "import numpy as np\n",
        "from textblob import TextBlob\n",
        "import matplotlib.pyplot as plt\n",
        "plt.style.use('fivethirtyeight')"
      ],
      "execution_count": null,
      "outputs": []
    },
    {
      "cell_type": "code",
      "metadata": {
        "id": "DdsG5iX6AjbR"
      },
      "source": [
        "# Load data\n",
        "from google.colab import files\n",
        "files.upload()"
      ],
      "execution_count": null,
      "outputs": []
    },
    {
      "cell_type": "code",
      "metadata": {
        "id": "kol9PBSWOGlH"
      },
      "source": [
        "df = pd.read_csv('crypto-news.csv', delimiter=';')\n",
        "df = df.set_index(pd.to_datetime(df['Date'].values, dayfirst=True))\n",
        "df.shape\n",
        "df.index\n",
        "df.head()"
      ],
      "execution_count": null,
      "outputs": []
    },
    {
      "cell_type": "code",
      "metadata": {
        "id": "x0xWuCicRG-z"
      },
      "source": [
        "# Define function for calculating text polarity\n",
        "def polarity(text):\n",
        "  return TextBlob(text).sentiment.polarity\n",
        "\n",
        "# Add polarity column\n",
        "df['Polarity'] = df['Headline'].apply(polarity)"
      ],
      "execution_count": null,
      "outputs": []
    },
    {
      "cell_type": "code",
      "metadata": {
        "id": "epHDMXMlaRI_"
      },
      "source": [
        "# Define function for labeling polarity scores\n",
        "def sentiment(score):\n",
        "  if score < 0:\n",
        "    return 'Negative'\n",
        "  elif score == 0:\n",
        "    return 'Neutral'\n",
        "  else: \n",
        "    return 'Positive'\n",
        "\n",
        "df['Sentiment'] = df['Polarity'].apply(sentiment)\n",
        "df.head()"
      ],
      "execution_count": null,
      "outputs": []
    },
    {
      "cell_type": "code",
      "metadata": {
        "id": "uTQHO5Kya3n3"
      },
      "source": [
        "# Visualise sentiment count over set period of time (in this case dataset time frame length)\n",
        "df['Sentiment'].value_counts() .plot(kind='bar')\n",
        "plt.title('Sentiment Histogram')\n",
        "plt.xlabel('Sentiment')\n",
        "plt.ylabel('Counts')\n",
        "plt.show()"
      ],
      "execution_count": null,
      "outputs": []
    },
    {
      "cell_type": "code",
      "metadata": {
        "id": "dwLIu-gcef73"
      },
      "source": [
        "# Plot polarity sum for each day - this is much better approach than one above\n",
        "plt.figure(figsize=(12.33, 4.5))\n",
        "plt.title('Sentiment Sum over Time')\n",
        "polaritySumPerDay = df.groupby(['Date']).sum()['Polarity'] # this may go beyond <-1, 1> range, as there is a SUM\n",
        "plt.plot(polaritySumPerDay.index, polaritySumPerDay)\n",
        "# sudden decrease in sentiment is related to Xinjiang region blackout mainly - I suppose"
      ],
      "execution_count": null,
      "outputs": []
    },
    {
      "cell_type": "code",
      "metadata": {
        "id": "it3btJAigPZu"
      },
      "source": [
        "# Show polarity sum per day\n",
        "polaritySumPerDay\n",
        "# In general because we sum polarities, the result could easily be beyond 1, especially on news rich day!"
      ],
      "execution_count": null,
      "outputs": []
    },
    {
      "cell_type": "code",
      "metadata": {
        "id": "kXTiZmEahOPa"
      },
      "source": [
        "# Count number of news per day\n",
        "polarity_count = df.groupby(['Date']).count()['Polarity']\n",
        "polarity_count"
      ],
      "execution_count": null,
      "outputs": []
    },
    {
      "cell_type": "code",
      "metadata": {
        "id": "XCWhGROlh3NU"
      },
      "source": [
        "# Calculate average polarity per day\n",
        "polarity_avg = polaritySumPerDay / polarity_count\n",
        "polarity_avg"
      ],
      "execution_count": null,
      "outputs": []
    },
    {
      "cell_type": "code",
      "metadata": {
        "id": "3Yvm5irViFG4"
      },
      "source": [
        "# Display average polarity\n",
        "plt.figure(figsize=(12.33, 4.5))\n",
        "plt.plot(polarity_avg.index, polarity_avg)"
      ],
      "execution_count": null,
      "outputs": []
    },
    {
      "cell_type": "code",
      "metadata": {
        "id": "m5lG5GQxilt5"
      },
      "source": [
        "# Define function calculating subjectivity.\n",
        "# Subjectivity is a real number between 0 and 1, where 0 is very objectie and 1 is very subjective\n",
        "def subjectivity(text):\n",
        "  return TextBlob(text).sentiment.subjectivity\n",
        "\n",
        "df['Subjectivity'] = df['Headline'].apply(subjectivity)\n",
        "df.head()"
      ],
      "execution_count": null,
      "outputs": []
    },
    {
      "cell_type": "code",
      "metadata": {
        "id": "7ASHJ1zVjM5o"
      },
      "source": [
        "# Visualise subjectivity and polarity on scattered diagram\n",
        "plt.figure(figsize=(8, 6))\n",
        "for i in range(0, df.shape[0]):\n",
        "  plt.scatter(df['Polarity'][i], df['Subjectivity'][i], color='Purple')\n",
        "plt.title('Polarity/Subjectivity Analysis')\n",
        "plt.xlabel('polarity')\n",
        "plt.ylabel('subjectivity (objective => subjective)')\n",
        "plt.show()"
      ],
      "execution_count": null,
      "outputs": []
    }
  ]
}